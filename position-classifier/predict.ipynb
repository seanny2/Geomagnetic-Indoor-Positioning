{
 "cells": [
  {
   "cell_type": "code",
   "execution_count": 53,
   "metadata": {},
   "outputs": [],
   "source": [
    "import torch\n",
    "import numpy as np\n",
    "import pandas as pd\n",
    "import math\n",
    "from classifier.models.cnn1d import PositionClassifier\n",
    "import matplotlib.pyplot as plt\n",
    "\n",
    "device = torch.device('cuda') if torch.cuda.is_available() else torch.device('cpu')\n",
    "\n",
    "def load(fn, device):\n",
    "    d = torch.load(fn, map_location=device)\n",
    "    \n",
    "    return d['model'], d['config']\n",
    "\n",
    "def test(x, output_size, model_dict, train_config):\n",
    "    model = PositionClassifier(4, output_size).to(device)\n",
    "    model.load_state_dict(model_dict)\n",
    "    model.eval()\n",
    "\n",
    "    detect = []\n",
    "    for x_i in x:\n",
    "        with torch.no_grad():\n",
    "            y_hat = model(x_i.unsqueeze(0))\n",
    "            detect.append(torch.argmax(y_hat, dim=-1))\n",
    "\n",
    "    detect = torch.cat(detect, dim=0)\n",
    "\n",
    "    loss_hist = []  # 오차거리 계산\n",
    "    for i in range(len(detect)):\n",
    "        loss_hist.append(abs(i-detect[i])*0.6)  # 보폭 60cm\n",
    "\n",
    "    return loss_hist\n"
   ]
  },
  {
   "cell_type": "code",
   "execution_count": 55,
   "metadata": {},
   "outputs": [
    {
     "name": "stdout",
     "output_type": "stream",
     "text": [
      "min error distance: 0.0m\n",
      "max error distance: 1.8000000715255737m\n",
      "avg error distance: 0.4725000262260437m\n"
     ]
    }
   ],
   "source": [
    "point_n = 245\n",
    "pattern_n = 5\n",
    "output_size = point_n - pattern_n\n",
    "data = pd.read_table(\"./data/test/s21.txt\", sep=\" \")\n",
    "data = pd.DataFrame(data, columns=['X', 'Y', 'Z', 'F'], index=np.linspace(0, len(data)-1, point_n, endpoint=True, dtype='i'))\n",
    "data = data.reset_index(drop=True)\n",
    "\n",
    "\n",
    "x = [[] for _ in range(point_n-pattern_n)]\n",
    "for i in range(point_n-pattern_n):\n",
    "    x[i] = np.array(data[i:i+pattern_n])\n",
    "weights = \"./weights/model.pt\"\n",
    "\n",
    "x = torch.from_numpy(np.array(x, dtype='f'))\n",
    "\n",
    "loss_hist = test(x, output_size, *load(weights, device))\n",
    "\n",
    "print(f\"min error distance: {min(loss_hist)}m\")\n",
    "print(f\"max error distance: {max(loss_hist)}m\")\n",
    "print(f\"avg error distance: {np.mean(loss_hist)}m\")"
   ]
  }
 ],
 "metadata": {
  "kernelspec": {
   "display_name": "Python 3.10.4 ('DL')",
   "language": "python",
   "name": "python3"
  },
  "language_info": {
   "codemirror_mode": {
    "name": "ipython",
    "version": 3
   },
   "file_extension": ".py",
   "mimetype": "text/x-python",
   "name": "python",
   "nbconvert_exporter": "python",
   "pygments_lexer": "ipython3",
   "version": "3.10.4"
  },
  "orig_nbformat": 4,
  "vscode": {
   "interpreter": {
    "hash": "4be86c8dc50e04ba973d8ce46680464486089f3e39fa7122143c61b5c28756ff"
   }
  }
 },
 "nbformat": 4,
 "nbformat_minor": 2
}
