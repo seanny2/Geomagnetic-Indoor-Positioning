{
 "cells": [
  {
   "attachments": {},
   "cell_type": "markdown",
   "metadata": {},
   "source": [
    "# 모바일 적용을 위한 모델 경량화"
   ]
  },
  {
   "cell_type": "code",
   "execution_count": 1,
   "metadata": {},
   "outputs": [
    {
     "name": "stderr",
     "output_type": "stream",
     "text": [
      "c:\\Users\\seung\\anaconda3\\envs\\DL\\lib\\site-packages\\tqdm\\auto.py:22: TqdmWarning: IProgress not found. Please update jupyter and ipywidgets. See https://ipywidgets.readthedocs.io/en/stable/user_install.html\n",
      "  from .autonotebook import tqdm as notebook_tqdm\n"
     ]
    }
   ],
   "source": [
    "import torch\n",
    "\n",
    "from classifier.models.cnn1d import PositionClassifier\n",
    "\n",
    "input_size = 4\n",
    "output_size = 240\n",
    "pattern_n = 5"
   ]
  },
  {
   "cell_type": "code",
   "execution_count": 2,
   "metadata": {},
   "outputs": [
    {
     "name": "stdout",
     "output_type": "stream",
     "text": [
      "Namespace(weights='./weights/model.pt', gpu_id=-1, train_ratio=0.8, n_epochs=100, batch_size=256, dropout_p=0.3, verbose=1)\n"
     ]
    }
   ],
   "source": [
    "weights = \"./weights/model.pt\"\n",
    "device = torch.device('cuda') if torch.cuda.is_available() else torch.device('cpu')\n",
    "\n",
    "def load(fn, device):\n",
    "    d = torch.load(fn, map_location=device)\n",
    "    \n",
    "    return d['model'], d['config']\n",
    "\n",
    "model_dict, train_config = load(weights, device)\n",
    "print(train_config)"
   ]
  },
  {
   "cell_type": "code",
   "execution_count": 3,
   "metadata": {},
   "outputs": [
    {
     "data": {
      "text/plain": [
       "<All keys matched successfully>"
      ]
     },
     "execution_count": 3,
     "metadata": {},
     "output_type": "execute_result"
    }
   ],
   "source": [
    "model = PositionClassifier(input_size, output_size).to(device)\n",
    "model.eval()\n",
    "model.load_state_dict(model_dict)"
   ]
  },
  {
   "cell_type": "code",
   "execution_count": 4,
   "metadata": {},
   "outputs": [
    {
     "name": "stdout",
     "output_type": "stream",
     "text": [
      "tensor([[[0.6015, 0.7037, 0.6672, 0.3546],\n",
      "         [0.8092, 0.5324, 0.3048, 0.1059],\n",
      "         [0.3752, 0.3426, 0.0354, 0.4394],\n",
      "         [0.6023, 0.1607, 0.5960, 0.6148],\n",
      "         [0.5502, 0.0497, 0.7952, 0.9177]]])\n"
     ]
    }
   ],
   "source": [
    "from torch.utils.mobile_optimizer import optimize_for_mobile\n",
    "\n",
    "example = torch.rand(pattern_n,input_size).unsqueeze(0)\n",
    "print(example)\n",
    "traced_script_module = torch.jit.trace(model, example)\n",
    "optimized_traced_model = optimize_for_mobile(traced_script_module)\n",
    "optimized_traced_model.save(\"./weights/for_mobile.pt\")"
   ]
  }
 ],
 "metadata": {
  "kernelspec": {
   "display_name": "Python 3.10.4 ('DL')",
   "language": "python",
   "name": "python3"
  },
  "language_info": {
   "codemirror_mode": {
    "name": "ipython",
    "version": 3
   },
   "file_extension": ".py",
   "mimetype": "text/x-python",
   "name": "python",
   "nbconvert_exporter": "python",
   "pygments_lexer": "ipython3",
   "version": "3.10.4"
  },
  "orig_nbformat": 4,
  "vscode": {
   "interpreter": {
    "hash": "4be86c8dc50e04ba973d8ce46680464486089f3e39fa7122143c61b5c28756ff"
   }
  }
 },
 "nbformat": 4,
 "nbformat_minor": 2
}
