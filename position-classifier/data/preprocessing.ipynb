{
 "cells": [
  {
   "attachments": {},
   "cell_type": "markdown",
   "metadata": {},
   "source": [
    "# 데이터 전처리"
   ]
  },
  {
   "cell_type": "code",
   "execution_count": 1,
   "metadata": {},
   "outputs": [
    {
     "name": "stderr",
     "output_type": "stream",
     "text": [
      "c:\\Users\\seung\\anaconda3\\envs\\DL\\lib\\site-packages\\tqdm\\auto.py:22: TqdmWarning: IProgress not found. Please update jupyter and ipywidgets. See https://ipywidgets.readthedocs.io/en/stable/user_install.html\n",
      "  from .autonotebook import tqdm as notebook_tqdm\n"
     ]
    }
   ],
   "source": [
    "import torch\n",
    "import pandas as pd\n",
    "import glob\n",
    "import numpy as np\n",
    "import re\n",
    "import random\n",
    "import tqdm\n",
    "import math"
   ]
  },
  {
   "attachments": {},
   "cell_type": "markdown",
   "metadata": {},
   "source": [
    "### 입력 데이터 생성"
   ]
  },
  {
   "cell_type": "code",
   "execution_count": 2,
   "metadata": {},
   "outputs": [
    {
     "name": "stdout",
     "output_type": "stream",
     "text": [
      "(6370, 4)\n"
     ]
    }
   ],
   "source": [
    "# 좌표 개수\n",
    "point_n = 245\n",
    "\n",
    "data_list = glob.glob(\"./original/*.txt\")\n",
    "\n",
    "# 수집 데이터 개수\n",
    "sample_size = len(data_list)\n",
    "\n",
    "x = [[] for _ in range(sample_size)]\n",
    "\n",
    "# 동일 크기의 입력 데이터 생성\n",
    "for i, path in enumerate(data_list):\n",
    "    df = pd.read_table(path, sep=\" \", dtype='f')\n",
    "    x[i].append(pd.DataFrame(\n",
    "        df, \n",
    "        columns=['X', 'Y', 'Z', 'F'], \n",
    "        index=np.linspace(0, len(df)-1, \n",
    "        point_n, \n",
    "        endpoint=True, \n",
    "        dtype='i')\n",
    "    ))\n",
    "\n",
    "# list to numpy\n",
    "x = np.array(x, dtype='d').reshape(-1,4)\n",
    "\n",
    "print(x.shape)"
   ]
  },
  {
   "attachments": {},
   "cell_type": "markdown",
   "metadata": {},
   "source": [
    "### 패턴화"
   ]
  },
  {
   "cell_type": "code",
   "execution_count": 3,
   "metadata": {},
   "outputs": [
    {
     "name": "stdout",
     "output_type": "stream",
     "text": [
      "(6240, 5, 4) (6240,)\n"
     ]
    }
   ],
   "source": [
    "pattern_n = 5    # 패턴 구간\n",
    "\n",
    "# 패턴화 후 저장될 입출력 데이터\n",
    "px = [[] for _ in range(sample_size)]\n",
    "py = [] \n",
    "\n",
    "# 0~4 -> 0 / 1~5 -> 1 / 2~6 -> 2 / ...\n",
    "for i in range(sample_size):\n",
    "    for j in range(point_n - pattern_n):    # 슬라이딩 횟수\n",
    "        px[i].append(x[i*point_n+j:i*point_n+j+pattern_n])\n",
    "        py.append(j)\n",
    "\n",
    "# list to numpy\n",
    "px = np.array(px).reshape(-1,pattern_n,4)\n",
    "py = np.array(py)\n",
    "\n",
    "print(px.shape, py.shape)"
   ]
  },
  {
   "attachments": {},
   "cell_type": "markdown",
   "metadata": {},
   "source": [
    "### 데이터셋 저장"
   ]
  },
  {
   "cell_type": "code",
   "execution_count": 4,
   "metadata": {},
   "outputs": [],
   "source": [
    "with open('./train/inputs.txt', 'w') as f:\n",
    "    f.writelines('X,Y,Z,F' + '\\n')\n",
    "    for i in px:\n",
    "        np.savetxt(f, i, delimiter=',', fmt='%.4f')\n",
    "\n",
    "with open('./train/outputs.txt', 'w') as f:\n",
    "    f.writelines('class' + '\\n')\n",
    "    np.savetxt(f, py, fmt='%d')"
   ]
  }
 ],
 "metadata": {
  "kernelspec": {
   "display_name": "Python 3.10.4 ('DL')",
   "language": "python",
   "name": "python3"
  },
  "language_info": {
   "codemirror_mode": {
    "name": "ipython",
    "version": 3
   },
   "file_extension": ".py",
   "mimetype": "text/x-python",
   "name": "python",
   "nbconvert_exporter": "python",
   "pygments_lexer": "ipython3",
   "version": "3.10.4 | packaged by conda-forge | (main, Mar 30 2022, 08:38:02) [MSC v.1916 64 bit (AMD64)]"
  },
  "orig_nbformat": 4,
  "vscode": {
   "interpreter": {
    "hash": "4be86c8dc50e04ba973d8ce46680464486089f3e39fa7122143c61b5c28756ff"
   }
  }
 },
 "nbformat": 4,
 "nbformat_minor": 2
}
